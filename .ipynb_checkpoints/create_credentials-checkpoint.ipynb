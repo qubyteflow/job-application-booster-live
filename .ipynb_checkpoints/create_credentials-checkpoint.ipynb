{
 "cells": [
  {
   "cell_type": "code",
   "execution_count": null,
   "id": "6958fcca-e4a7-4e37-8fc3-6aee4b8a4d0c",
   "metadata": {},
   "outputs": [],
   "source": [
    "# .env"
   ]
  },
  {
   "cell_type": "code",
   "execution_count": null,
   "id": "71fc53e0-eedd-456d-8824-92fa5269b87d",
   "metadata": {},
   "outputs": [],
   "source": []
  },
  {
   "cell_type": "code",
   "execution_count": 3,
   "id": "f6b5ab7a-8e57-4485-b4b1-4a3ee39fb95b",
   "metadata": {},
   "outputs": [
    {
     "name": "stdout",
     "output_type": "stream",
     "text": [
      ".env file created successfully!\n"
     ]
    }
   ],
   "source": [
    "env_content = \"\"\"\n",
    "GOOGLE_API_KEY=XXXXXX_PASTE_YOUR_API_KEY_HERE_XXXXXXXX\n",
    "\"\"\"\n",
    "\n",
    "with open(\".env\", \"w\") as file:\n",
    "    file.write(env_content.strip())\n",
    "\n",
    "print(\".env file created successfully!\")"
   ]
  },
  {
   "cell_type": "code",
   "execution_count": null,
   "id": "c3c64dda-6462-4269-b6ba-02a3dade1e00",
   "metadata": {},
   "outputs": [],
   "source": []
  }
 ],
 "metadata": {
  "kernelspec": {
   "display_name": "Python 3 (ipykernel)",
   "language": "python",
   "name": "python3"
  },
  "language_info": {
   "codemirror_mode": {
    "name": "ipython",
    "version": 3
   },
   "file_extension": ".py",
   "mimetype": "text/x-python",
   "name": "python",
   "nbconvert_exporter": "python",
   "pygments_lexer": "ipython3",
   "version": "3.11.7"
  }
 },
 "nbformat": 4,
 "nbformat_minor": 5
}
